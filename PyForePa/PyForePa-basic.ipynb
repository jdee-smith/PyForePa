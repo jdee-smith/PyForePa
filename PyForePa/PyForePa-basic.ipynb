{
 "cells": [
  {
   "cell_type": "code",
   "execution_count": 1,
   "metadata": {},
   "outputs": [],
   "source": [
    "# Import packages.\n",
    "import pandas as pd\n",
    "from PyForePa import PyForePa"
   ]
  },
  {
   "cell_type": "code",
   "execution_count": 2,
   "metadata": {
    "collapsed": true
   },
   "outputs": [],
   "source": [
    "# Read in data for temperature in kitchen area. \n",
    "# Readings taken every ten minutes for 4.5 months. \n",
    "# Readings in Celsius.\n",
    "df = pd.read_csv(\n",
    "    'https://archive.ics.uci.edu/ml/machine-learning-databases/00374/energydata_complete.csv',\n",
    "    usecols=['T1']\n",
    ")"
   ]
  },
  {
   "cell_type": "code",
   "execution_count": 3,
   "metadata": {},
   "outputs": [
    {
     "data": {
      "text/html": [
       "<div>\n",
       "<style scoped>\n",
       "    .dataframe tbody tr th:only-of-type {\n",
       "        vertical-align: middle;\n",
       "    }\n",
       "\n",
       "    .dataframe tbody tr th {\n",
       "        vertical-align: top;\n",
       "    }\n",
       "\n",
       "    .dataframe thead th {\n",
       "        text-align: right;\n",
       "    }\n",
       "</style>\n",
       "<table border=\"1\" class=\"dataframe\">\n",
       "  <thead>\n",
       "    <tr style=\"text-align: right;\">\n",
       "      <th></th>\n",
       "      <th>T1</th>\n",
       "    </tr>\n",
       "  </thead>\n",
       "  <tbody>\n",
       "    <tr>\n",
       "      <th>count</th>\n",
       "      <td>19735.000000</td>\n",
       "    </tr>\n",
       "    <tr>\n",
       "      <th>mean</th>\n",
       "      <td>21.686571</td>\n",
       "    </tr>\n",
       "    <tr>\n",
       "      <th>std</th>\n",
       "      <td>1.606066</td>\n",
       "    </tr>\n",
       "    <tr>\n",
       "      <th>min</th>\n",
       "      <td>16.790000</td>\n",
       "    </tr>\n",
       "    <tr>\n",
       "      <th>25%</th>\n",
       "      <td>20.760000</td>\n",
       "    </tr>\n",
       "    <tr>\n",
       "      <th>50%</th>\n",
       "      <td>21.600000</td>\n",
       "    </tr>\n",
       "    <tr>\n",
       "      <th>75%</th>\n",
       "      <td>22.600000</td>\n",
       "    </tr>\n",
       "    <tr>\n",
       "      <th>max</th>\n",
       "      <td>26.260000</td>\n",
       "    </tr>\n",
       "  </tbody>\n",
       "</table>\n",
       "</div>"
      ],
      "text/plain": [
       "                 T1\n",
       "count  19735.000000\n",
       "mean      21.686571\n",
       "std        1.606066\n",
       "min       16.790000\n",
       "25%       20.760000\n",
       "50%       21.600000\n",
       "75%       22.600000\n",
       "max       26.260000"
      ]
     },
     "execution_count": 3,
     "metadata": {},
     "output_type": "execute_result"
    }
   ],
   "source": [
    "# Describe the temperature data.\n",
    "df.describe()"
   ]
  },
  {
   "cell_type": "code",
   "execution_count": 4,
   "metadata": {},
   "outputs": [],
   "source": [
    "# Make a PyForePa object called \"data\".\n",
    "data = PyForePa(df['T1'])"
   ]
  },
  {
   "cell_type": "code",
   "execution_count": 5,
   "metadata": {},
   "outputs": [
    {
     "name": "stdout",
     "output_type": "stream",
     "text": [
      "[25.50028428 25.50056856 25.50085284 25.50113712 25.5014214  25.50170569]\n"
     ]
    }
   ],
   "source": [
    "# Get predictions for the next 6 steps using a drift model.\n",
    "# This is equivalent to the next 60 minutes of our series.\n",
    "y_pred = data.drift_forecast(h=6).y_pred\n",
    "print(y_pred)"
   ]
  },
  {
   "cell_type": "code",
   "execution_count": 6,
   "metadata": {},
   "outputs": [
    {
     "name": "stdout",
     "output_type": "stream",
     "text": [
      "25.500994983277593\n"
     ]
    }
   ],
   "source": [
    "# Get the mean of predictions for the next 6 steps.\n",
    "mean_y_pred = y_pred.mean()\n",
    "print(mean_y_pred)"
   ]
  },
  {
   "cell_type": "code",
   "execution_count": 7,
   "metadata": {},
   "outputs": [
    {
     "name": "stdout",
     "output_type": "stream",
     "text": [
      "25.500994983277593\n"
     ]
    }
   ],
   "source": [
    "# Alternatively...\n",
    "mean_y_pred = data.drift_forecast(h=6).y_pred.mean()\n",
    "print(mean_y_pred)"
   ]
  },
  {
   "cell_type": "code",
   "execution_count": 8,
   "metadata": {},
   "outputs": [
    {
     "name": "stdout",
     "output_type": "stream",
     "text": [
      "[25.58060464 25.61415871 25.63997179 25.66177785 25.68102319 25.69844959]\n"
     ]
    }
   ],
   "source": [
    "# Get the upper bound of those predictions.\n",
    "ub_y_pred = data.drift_forecast(h=6).y_pred_ub\n",
    "print(ub_y_pred)"
   ]
  },
  {
   "cell_type": "code",
   "execution_count": 9,
   "metadata": {},
   "outputs": [],
   "source": [
    "# Take the first 19000 observations as training data.\n",
    "train_set = PyForePa(df['T1'].head(-1735))"
   ]
  },
  {
   "cell_type": "code",
   "execution_count": 10,
   "metadata": {
    "collapsed": true
   },
   "outputs": [],
   "source": [
    "# Set aside the remaining 1735 observations as ground truth.\n",
    "y_true = df['T1'].tail(1735)"
   ]
  },
  {
   "cell_type": "code",
   "execution_count": 11,
   "metadata": {},
   "outputs": [
    {
     "name": "stdout",
     "output_type": "stream",
     "text": [
      "0.7329037171660147\n"
     ]
    }
   ],
   "source": [
    "# Predict final 1735 observations using a naive model and calculate rmse by comparing\n",
    "# predictions to ground truth.\n",
    "naive_rmse = train_set.naive_forecast(h=len(y_true)).root_mean_squared_error(y_true)\n",
    "print(naive_rmse)"
   ]
  },
  {
   "cell_type": "code",
   "execution_count": 12,
   "metadata": {},
   "outputs": [
    {
     "name": "stdout",
     "output_type": "stream",
     "text": [
      "0.7329037171660147\n"
     ]
    }
   ],
   "source": [
    "# Alternatively...\n",
    "naive_preds = train_set.naive_forecast(h=len(y_true))\n",
    "naive_rmse = naive_preds.root_mean_squared_error(y_true)\n",
    "print(naive_rmse)"
   ]
  },
  {
   "cell_type": "code",
   "execution_count": 13,
   "metadata": {},
   "outputs": [
    {
     "name": "stdout",
     "output_type": "stream",
     "text": [
      "2.4209621915926416\n"
     ]
    }
   ],
   "source": [
    "# Compare naive model to a historical mean model. Loooks like the naive model does better.\n",
    "mean_rmse = train_set.mean_forecast(h=len(y_true)).root_mean_squared_error(y_true)\n",
    "print(mean_rmse)"
   ]
  }
 ],
 "metadata": {
  "kernelspec": {
   "display_name": "Python 3",
   "language": "python",
   "name": "python3"
  },
  "language_info": {
   "codemirror_mode": {
    "name": "ipython",
    "version": 3
   },
   "file_extension": ".py",
   "mimetype": "text/x-python",
   "name": "python",
   "nbconvert_exporter": "python",
   "pygments_lexer": "ipython3",
   "version": "3.6.1"
  }
 },
 "nbformat": 4,
 "nbformat_minor": 2
}
